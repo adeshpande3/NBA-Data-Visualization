{
 "cells": [
  {
   "cell_type": "markdown",
   "metadata": {},
   "source": [
    "The classic imports"
   ]
  },
  {
   "cell_type": "code",
   "execution_count": 71,
   "metadata": {
    "collapsed": true
   },
   "outputs": [],
   "source": [
    "import numpy as np\n",
    "import pandas as pd "
   ]
  },
  {
   "cell_type": "code",
   "execution_count": 91,
   "metadata": {
    "collapsed": true
   },
   "outputs": [],
   "source": [
    "from sklearn.decomposition import PCA\n",
    "import matplotlib.pyplot as plt\n",
    "%matplotlib inline "
   ]
  },
  {
   "cell_type": "markdown",
   "metadata": {},
   "source": [
    "Helper functions that will do a little bit of preprocessing on the dataframe and will create a matrix of vectors that describes all the NBA players in the dataset"
   ]
  },
  {
   "cell_type": "code",
   "execution_count": 77,
   "metadata": {
    "collapsed": true
   },
   "outputs": [],
   "source": [
    "def preprocessString(s):\n",
    "    return s[:s.index('\\\\')]\n",
    "\n",
    "def preprocessDataframe(original):\n",
    "    original['Player'] = original['Player'].apply(preprocessString)\n",
    "    original.drop('Tm', axis=1, inplace=True)\n",
    "    original.dropna(inplace=True)\n",
    "    return original \n",
    "\n",
    "def integerizeFeatures(original):\n",
    "    original = pd.concat([original, pd.get_dummies(original['Pos'])], axis=1)\n",
    "    original.drop('Pos', axis=1, inplace=True)\n",
    "    return original\n",
    "\n",
    "def createVectors(original):\n",
    "    # Don't need the name anymore\n",
    "    original.drop('Player', axis=1, inplace=True)\n",
    "    return original.as_matrix(), original"
   ]
  },
  {
   "cell_type": "markdown",
   "metadata": {},
   "source": [
    "Loading in the data and calling the helper functions"
   ]
  },
  {
   "cell_type": "code",
   "execution_count": 78,
   "metadata": {
    "collapsed": false
   },
   "outputs": [],
   "source": [
    "# Read in data from CSV\n",
    "df = pd.read_csv('NBA2016-2017Stats.csv', encoding='utf-8')\n",
    "\n",
    "# Do some quick preprocessing\n",
    "df = preprocessDataframe(df)\n",
    "\n",
    "# Integerize the dataframe\n",
    "df = integerizeFeatures(df)\n",
    "\n",
    "# Create a list of all the players\n",
    "listPlayers = df['Player'].tolist()\n",
    "\n",
    "# Create vectors\n",
    "playerVectors, df = createVectors(df)\n",
    "\n",
    "# Create a list of all the stat categories\n",
    "listStats = df.columns.tolist()"
   ]
  },
  {
   "cell_type": "markdown",
   "metadata": {},
   "source": [
    "Making sure that we're able to get the players and their corresponding stats"
   ]
  },
  {
   "cell_type": "code",
   "execution_count": 81,
   "metadata": {
    "collapsed": false
   },
   "outputs": [
    {
     "name": "stdout",
     "output_type": "stream",
     "text": [
      "Chris Paul's stats\n",
      "TRB: 5.0\n",
      "AST: 9.2\n",
      "PS/G: 18.1\n"
     ]
    }
   ],
   "source": [
    "def getVector(playerName):\n",
    "    indexOfPlayer = 0\n",
    "    try:\n",
    "        indexOfPlayer = listPlayers.index(playerName)\n",
    "    except ValueError:\n",
    "        print ('Player not found!')\n",
    "        return\n",
    "    return playerVectors[indexOfPlayer]\n",
    "\n",
    "def showStats(vector, name):\n",
    "    print ('{0}\\'s stats'.format(name))\n",
    "    for index,stat in enumerate(listStats):\n",
    "        # Just wanna print the important stats\n",
    "        if (stat in ['AST','TRB','PS/G']):\n",
    "            print ('{0}: {1}'.format(stat, vector[index]))\n",
    "\n",
    "nameOfPlayer = 'Chris Paul'\n",
    "cp3Vector = getVector(nameOfPlayer)\n",
    "showStats(cp3Vector, nameOfPlayer)"
   ]
  },
  {
   "cell_type": "markdown",
   "metadata": {},
   "source": [
    "Let's see if we can display these 32 dimensional vectors in a bit of a easier to visualize space"
   ]
  },
  {
   "cell_type": "code",
   "execution_count": 85,
   "metadata": {
    "collapsed": false
   },
   "outputs": [],
   "source": [
    "pca = PCA(n_components=2)\n",
    "pca.fit(playerVectors)\n",
    "reducedVectors = pca.transform(playerVectors)"
   ]
  },
  {
   "cell_type": "code",
   "execution_count": 92,
   "metadata": {
    "collapsed": false
   },
   "outputs": [
    {
     "data": {
      "text/plain": [
       "array([ 38.22273777, -16.64453357])"
      ]
     },
     "execution_count": 92,
     "metadata": {},
     "output_type": "execute_result"
    }
   ],
   "source": [
    "reducedVectors[listPlayers.index('Chris Paul')]"
   ]
  },
  {
   "cell_type": "code",
   "execution_count": 96,
   "metadata": {
    "collapsed": false
   },
   "outputs": [
    {
     "data": {
      "text/plain": [
       "(531,)"
      ]
     },
     "execution_count": 96,
     "metadata": {},
     "output_type": "execute_result"
    }
   ],
   "source": [
    "xValues = reducedVectors[:,0]\n",
    "yValues = reducedVectors[:,1]\n",
    "\n",
    "plt.scatter(xValues, yValues, s=area, c=colors, alpha=0.5)"
   ]
  },
  {
   "cell_type": "code",
   "execution_count": null,
   "metadata": {
    "collapsed": true
   },
   "outputs": [],
   "source": []
  }
 ],
 "metadata": {
  "anaconda-cloud": {},
  "kernelspec": {
   "display_name": "Python [conda env:py3]",
   "language": "python",
   "name": "conda-env-py3-py"
  },
  "language_info": {
   "codemirror_mode": {
    "name": "ipython",
    "version": 3
   },
   "file_extension": ".py",
   "mimetype": "text/x-python",
   "name": "python",
   "nbconvert_exporter": "python",
   "pygments_lexer": "ipython3",
   "version": "3.5.2"
  }
 },
 "nbformat": 4,
 "nbformat_minor": 1
}
